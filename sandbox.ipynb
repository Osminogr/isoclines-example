{
 "cells": [
  {
   "cell_type": "code",
   "execution_count": 1,
   "metadata": {},
   "outputs": [],
   "source": [
    "#Смотри так можно гораздо удобнее скатывать код для лаб\n",
    "#Нажми на выполнить все\n",
    "#⠄⠄⠄⠄⠄⠄⠄⠄⠄⠄⠄⠄⠄⠄⠄⠄⠄⢀⡤⠖⠒⠒⠲⢄⠄⠄⠄\n",
    "#⠄⠄⠄⠄⠄⠄⠄⠄⠄⠄⠄⠄⠄⠄⠄⡠⠞⠁⠄⠄⠄⠄⠄⠄⢱⠄⠄\n",
    "#⠄⠄⠄⠄⠄⠄⠄⠄⠄⠄⠄⠄⠄⢠⠎⠄⠄⠄⠄⠄⠄⠄⠄⠄⣸⠁⠄\n",
    "#⠄⠄⠄⠄⠄⠄⠄⠄⠄⠄⠄⠄⠄⠘⣄⠄⠄⠄⠄⠄⠄⢀⡠⠖⠁⠄⠄\n",
    "#⠄⠄⠄⠄⠄⠄⠄⠄⠄⠄⠄⠄⠄⢠⣿⣿⣿⣿⣿⣿⣿⣿⠁⠄⠄⠄⠄\n",
    "#⠄⠄⠄⠄⠄⠄⠄⠄⠄⠄⠄⠄⣠⣯⣿⣿⣿⣿⣿⣿⣿⠇⠄⠄⠄⠄⠄\n",
    "#⠄⠄⠄⠄⠄⠄⠄⠄⠄⠄⠄⡴⣻⣿⣿⣿⣿⣿⣿⣯⠏⠄⠄⠄⠄⠄⠄\n",
    "#⠄⠄⠄⠄⠄⠄⠄⠄⠄⣠⠾⣽⣿⣿⣿⣿⣿⣿⣿⠏⠄⠄⠄⠄⠄⠄⠄\n",
    "#⠄⠄⠄⠄⠄⠄⠄⢀⣴⣿⣿⣿⣿⣿⣿⣿⣿⣿⠋⠄⠄⠄⠄⠄⠄⠄⠄\n",
    "#⠄⠄⠄⠄⠄⠄⣴⣻⣿⣿⣿⣿⣿⣿⣿⣿⡿⠁⠄⠄⠄⠄⠄⠄⠄⠄⠄\n",
    "#⠄⠄⠄⠄⣠⢾⣿⣿⣿⣿⣿⣿⣿⣿⡿⠋⠄⠄⠄⠄⠄⠄⠄⠄⠄⠄⠄\n",
    "#⠄⠄⠄⣼⣷⣿⣿⣿⣿⣿⣿⣿⣿⣟⣦⡀⠄⠄⠄⠄⠄⠄⠄⠄⠄⠄⠄\n",
    "#⠄⠄⢸⢿⣿⣿⣿⣿⣿⣿⣿⣿⣿⣯⣻⡟⡆⠄⠄⠄⠄⠄⠄⠄⠄⠄⠄\n",
    "#⠄⠄⠸⣿⣿⣿⣿⣿⣿⣿⣿⣿⣿⣹⣿⡿⡇⠄⠄⠄⠄⠄⠄⠄⠄⠄⠄\n",
    "#⠄⠄⠄⠹⣟⣿⣿⣿⣿⣿⣿⡿⣷⡿⣿⡿⠁⠄⠄⠄⠄⠄⠄⠄⠄⠄⠄\n",
    "#⠄⠄⠄⠄⠈⠛⠯⣿⣿⣿⡯⠟⠛⠛⠉⠄⠄⠄⠄⠄⠄⠄⠄⠄⠄⠄⠄\n",
    "\n"
   ]
  },
  {
   "cell_type": "code",
   "execution_count": 2,
   "metadata": {},
   "outputs": [],
   "source": [
    "s = 'Это пример того как это работает у нормальных людей'"
   ]
  },
  {
   "cell_type": "code",
   "execution_count": 3,
   "metadata": {},
   "outputs": [
    {
     "name": "stdout",
     "output_type": "stream",
     "text": [
      "Специально для тебя установил автоматические подсказки чтобы было сложнее тупить\n"
     ]
    }
   ],
   "source": [
    "print('Специально для тебя установил ' + 'автоматические подсказки чтобы было сложнее тупить')"
   ]
  },
  {
   "cell_type": "markdown",
   "metadata": {},
   "source": [
    "Смотри заметка"
   ]
  },
  {
   "cell_type": "code",
   "execution_count": 22,
   "metadata": {},
   "outputs": [],
   "source": [
    "\"\"\"\n",
    "Смотри какие удобные графики :>\n",
    "\"\"\"\n",
    "from numpy import linspace\n",
    "import random\n",
    "def func(x):\n",
    " return x**3-4*x**2+2 + random.random()*5-2.5\n",
    "\n",
    "x = linspace(-30,30,num=1000) #Можно и просто массивом\n",
    "y = [func(i) for i in x]\n",
    "y1 = [func(i*2) for i in x]\n",
    "\n"
   ]
  },
  {
   "cell_type": "code",
   "execution_count": 23,
   "metadata": {},
   "outputs": [
    {
     "data": {
      "image/png": "[encoded data removed]",
      "text/plain": [
       "<Figure size 432x288 with 1 Axes>"
      ]
     },
     "metadata": {
      "needs_background": "light"
     },
     "output_type": "display_data"
    }
   ],
   "source": [
    "import matplotlib.pyplot as plt\n",
    "plt.plot(x,y,\"-\",x,y1,\"-.\")\n",
    "\n",
    "plt.hlines(0,min(x),max(x),color='r')\n",
    "plt.vlines(0,min(y),max(y),color='g')\n",
    "\n",
    "plt.ylabel('Типа функции')\n",
    "\n",
    "plt.axis([-20, 20, -20, 20]) # размер окна\n",
    "plt.grid()"
   ]
  },
  {
   "cell_type": "code",
   "execution_count": 6,
   "metadata": {},
   "outputs": [],
   "source": [
    "# Там скоро понадобится вывод в Exel\n",
    "\n",
    "import pandas as pd\n",
    "\n",
    "df = pd.DataFrame({\n",
    "    'Аргумент':x,\n",
    "    'Функция 1':y,\n",
    "    'Функция 2':y1  \n",
    "})\n",
    "\n",
    "df.to_excel('./example.xlsx')"
   ]
  },
  {
   "cell_type": "code",
   "execution_count": 7,
   "metadata": {},
   "outputs": [],
   "source": [
    "#А еще вверху есть кнопочка терминал\n",
    "s = \"\"\"Там много чего полезного, например можно нажать на \\\\Jupiter\\\\ И увидеть текущие значения переменных\"\"\""
   ]
  },
  {
   "cell_type": "code",
   "execution_count": 8,
   "metadata": {},
   "outputs": [],
   "source": [
    "s = \"\"\"\n",
    "Еще из плюсов, я встроил предпросмотр для большинства типов файлов, например ты можешь сразу увидеть как выглядит табличка для exel которого у тебя нет)\n",
    "Не забудь что удобнее открывать просмотр папки через правую кнопку мыши в проводнике\n",
    "\"\"\""
   ]
  }
 ],
 "metadata": {
  "interpreter": {
   "hash": "49bed8db6ed2d5dc4cbb3ad6ecbec10762bedf6e3f0560661bd0b9175af7c8e1"
  },
  "kernelspec": {
   "display_name": "Python 3.10.4 64-bit",
   "language": "python",
   "name": "python3"
  },
  "language_info": {
   "codemirror_mode": {
    "name": "ipython",
    "version": 3
   },
   "file_extension": ".py",
   "mimetype": "text/x-python",
   "name": "python",
   "nbconvert_exporter": "python",
   "pygments_lexer": "ipython3",
   "version": "3.10.4"
  },
  "orig_nbformat": 4
 },
 "nbformat": 4,
 "nbformat_minor": 2
}
